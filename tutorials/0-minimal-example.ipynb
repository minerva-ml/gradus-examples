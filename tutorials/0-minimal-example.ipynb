{
 "cells": [
  {
   "cell_type": "code",
   "execution_count": 1,
   "metadata": {},
   "outputs": [],
   "source": [
    "# Bare minimal example showing steppy (v0.1.5)."
   ]
  },
  {
   "cell_type": "code",
   "execution_count": 2,
   "metadata": {},
   "outputs": [],
   "source": [
    "from steppy.base import Step, BaseTransformer"
   ]
  },
  {
   "cell_type": "code",
   "execution_count": 3,
   "metadata": {},
   "outputs": [],
   "source": [
    "# let's create datasets\n",
    "data = {'dataset1':\n",
    "           {'a': [1, 2, 3, 4, 5],\n",
    "            'b': [1, -2, 3, -4, 5]}\n",
    "       }"
   ]
  },
  {
   "cell_type": "code",
   "execution_count": 4,
   "metadata": {},
   "outputs": [],
   "source": [
    "# we need to specify folder for storing parameters\n",
    "EXPERIMENT_DIR = \"./.0-intro\""
   ]
  },
  {
   "cell_type": "code",
   "execution_count": 5,
   "metadata": {},
   "outputs": [],
   "source": [
    "# we create a Transformer that performs element-wise multiplication:\n",
    "class Multiply(BaseTransformer):\n",
    "\n",
    "    def transform(self, a, b):\n",
    "        return {'c': [x * y for x, y in zip(a, b)]}"
   ]
  },
  {
   "cell_type": "code",
   "execution_count": 6,
   "metadata": {},
   "outputs": [
    {
     "name": "stdout",
     "output_type": "stream",
     "text": [
      "2018-07-13 15:31:44 steppy >>> initializing Step multiply...\n",
      "2018-07-13 15:31:44 steppy >>> initializing experiment directories under ./.0-intro\n",
      "2018-07-13 15:31:44 steppy >>> done: initializing experiment directories\n",
      "2018-07-13 15:31:44 steppy >>> Step multiply initialized\n"
     ]
    }
   ],
   "source": [
    "# Use Multiply transformer created above to build Step\n",
    "step = Step(name='multiply',\n",
    "            transformer=Multiply(),\n",
    "            experiment_directory=EXPERIMENT_DIR,\n",
    "            input_data=['dataset1'])"
   ]
  },
  {
   "cell_type": "code",
   "execution_count": 7,
   "metadata": {},
   "outputs": [
    {
     "name": "stdout",
     "output_type": "stream",
     "text": [
      "2018-07-13 15:31:44 steppy >>> Step multiply, unpacking inputs...\n",
      "2018-07-13 15:31:44 steppy >>> Step multiply, loading transformer from the ./.0-intro/transformers/multiply\n",
      "2018-07-13 15:31:44 steppy >>> Step multiply, transforming...\n"
     ]
    },
    {
     "data": {
      "text/plain": [
       "{'c': [1, -4, 9, -16, 25]}"
      ]
     },
     "execution_count": 7,
     "metadata": {},
     "output_type": "execute_result"
    }
   ],
   "source": [
    "# lets use that on data\n",
    "step.transform(data)"
   ]
  }
 ],
 "metadata": {
  "kernelspec": {
   "display_name": "Python 3",
   "language": "python",
   "name": "python3"
  },
  "language_info": {
   "codemirror_mode": {
    "name": "ipython",
    "version": 3
   },
   "file_extension": ".py",
   "mimetype": "text/x-python",
   "name": "python",
   "nbconvert_exporter": "python",
   "pygments_lexer": "ipython3",
   "version": "3.5.5"
  }
 },
 "nbformat": 4,
 "nbformat_minor": 1
}
